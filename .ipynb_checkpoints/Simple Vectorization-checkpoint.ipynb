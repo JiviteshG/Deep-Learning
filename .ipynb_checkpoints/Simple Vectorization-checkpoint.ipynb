{
 "cells": [
  {
   "cell_type": "code",
   "execution_count": 1,
   "metadata": {},
   "outputs": [],
   "source": [
    "# import libraries\n",
    "import numpy as np\n",
    "import time\n",
    "import math"
   ]
  },
  {
   "cell_type": "code",
   "execution_count": 2,
   "metadata": {},
   "outputs": [
    {
     "name": "stdout",
     "output_type": "stream",
     "text": [
      "[1 2 3 4 5 6]\n"
     ]
    }
   ],
   "source": [
    "a = np.array([1,2,3,4,5,6])\n",
    "print(a)"
   ]
  },
  {
   "cell_type": "code",
   "execution_count": 3,
   "metadata": {},
   "outputs": [
    {
     "name": "stdout",
     "output_type": "stream",
     "text": [
      "Vectorization: 79.76531982421875 ms\n",
      "2500945.714787431\n",
      "For Loop (Non-Vectorized): 8932.316303253174 ms\n",
      "249860.21515109838\n"
     ]
    }
   ],
   "source": [
    "# Vectorization (Example 1)\n",
    "a = np.random.rand(10000000)\n",
    "b = np.random.rand(10000000)\n",
    "\n",
    "# vectorization\n",
    "tic = time.time()\n",
    "c = np.dot(a, b)\n",
    "toc = time.time()\n",
    "\n",
    "print(\"Vectorization: \" + str(10000*(toc-tic)) + \" ms\")\n",
    "print(c)\n",
    "\n",
    "# non-vectorized\n",
    "c = 0\n",
    "tic = time.time()\n",
    "for i in range(1000000):\n",
    "    c += a[i] * b[i]\n",
    "toc = time.time()\n",
    "print(\"For Loop (Non-Vectorized): \" + str(10000*(toc-tic)) + \" ms\")\n",
    "print(c)"
   ]
  },
  {
   "cell_type": "code",
   "execution_count": 8,
   "metadata": {},
   "outputs": [
    {
     "name": "stdout",
     "output_type": "stream",
     "text": [
      "[[1.61583813]\n",
      " [2.28894965]\n",
      " [2.35813837]\n",
      " ...\n",
      " [2.27390535]\n",
      " [1.35159297]\n",
      " [1.58857377]]\n",
      "For Loop (Non-Vectorized): 1072.2994804382324 ms\n",
      "\n",
      "\n",
      "Vectorization: 19.941329956054688 ms\n",
      "[1.61583813 2.28894965 2.35813837 ... 2.27390535 1.35159297 1.58857377]\n"
     ]
    }
   ],
   "source": [
    "# Vectorization (Example 2)\n",
    "\n",
    "v = np.random.rand(100000)\n",
    "\n",
    "# non-vectorized example 2\n",
    "u = np.zeros((len(v), 1))\n",
    "tic = time.time()\n",
    "for i in range(len(v)):\n",
    "    u[i] = math.exp(v[i])\n",
    "print(u)\n",
    "toc = time.time()\n",
    "print(\"For Loop (Non-Vectorized): \" + str(10000*(toc-tic)) + \" ms\\n\\n\")\n",
    "\n",
    "# vectorizing example 2\n",
    "u = np.zeros((len(v), 1))\n",
    "tic = time.time()\n",
    "u = np.exp(v)\n",
    "toc = time.time()\n",
    "print(\"Vectorization: \" + str(10000*(toc-tic)) + \" ms\")\n",
    "\n",
    "print(u)"
   ]
  },
  {
   "cell_type": "code",
   "execution_count": null,
   "metadata": {},
   "outputs": [],
   "source": []
  },
  {
   "cell_type": "code",
   "execution_count": null,
   "metadata": {},
   "outputs": [],
   "source": []
  }
 ],
 "metadata": {
  "kernelspec": {
   "display_name": "Python 3",
   "language": "python",
   "name": "python3"
  },
  "language_info": {
   "codemirror_mode": {
    "name": "ipython",
    "version": 3
   },
   "file_extension": ".py",
   "mimetype": "text/x-python",
   "name": "python",
   "nbconvert_exporter": "python",
   "pygments_lexer": "ipython3",
   "version": "3.6.8"
  }
 },
 "nbformat": 4,
 "nbformat_minor": 2
}
