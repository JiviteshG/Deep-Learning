{
 "cells": [
  {
   "cell_type": "code",
   "execution_count": 1,
   "metadata": {},
   "outputs": [],
   "source": [
    "# import libraries\n",
    "import numpy as np\n",
    "import time\n",
    "import math"
   ]
  },
  {
   "cell_type": "code",
   "execution_count": 2,
   "metadata": {},
   "outputs": [
    {
     "name": "stdout",
     "output_type": "stream",
     "text": [
      "[1 2 3 4 5 6]\n"
     ]
    }
   ],
   "source": [
    "a = np.array([1,2,3,4,5,6])\n",
    "print(a)"
   ]
  },
  {
   "cell_type": "code",
   "execution_count": 9,
   "metadata": {},
   "outputs": [
    {
     "name": "stdout",
     "output_type": "stream",
     "text": [
      "Vectorization: 89.7526741027832 ms\n",
      "2499034.6902586417\n",
      "For Loop (Non-Vectorized): 8336.653709411621 ms\n",
      "249975.7481441315\n"
     ]
    }
   ],
   "source": [
    "# Vectorization (Example 1)\n",
    "a = np.random.rand(10000000)\n",
    "b = np.random.rand(10000000)\n",
    "\n",
    "# vectorization\n",
    "tic = time.time()\n",
    "c = np.dot(a, b)\n",
    "toc = time.time()\n",
    "\n",
    "print(\"Vectorization: \" + str(10000*(toc-tic)) + \" ms\")\n",
    "print(c)\n",
    "\n",
    "# non-vectorized\n",
    "c = 0\n",
    "tic = time.time()\n",
    "for i in range(1000000):\n",
    "    c += a[i] * b[i]\n",
    "toc = time.time()\n",
    "print(\"For Loop (Non-Vectorized): \" + str(10000*(toc-tic)) + \" ms\")\n",
    "print(c)"
   ]
  },
  {
   "cell_type": "code",
   "execution_count": 10,
   "metadata": {},
   "outputs": [
    {
     "name": "stdout",
     "output_type": "stream",
     "text": [
      "[[1.04354653]\n",
      " [1.1623615 ]\n",
      " [1.9175939 ]\n",
      " ...\n",
      " [1.84723285]\n",
      " [1.28365007]\n",
      " [1.48605347]]\n",
      "For Loop (Non-Vectorized): 1190.1617050170898 ms\n",
      "\n",
      "\n",
      "Vectorization: 20.012855529785156 ms\n",
      "[1.04354653 1.1623615  1.9175939  ... 1.84723285 1.28365007 1.48605347]\n"
     ]
    }
   ],
   "source": [
    "# Vectorization (Example 2)\n",
    "\n",
    "v = np.random.rand(100000)\n",
    "\n",
    "# non-vectorized example 2\n",
    "u = np.zeros((len(v), 1))\n",
    "tic = time.time()\n",
    "for i in range(len(v)):\n",
    "    u[i] = math.exp(v[i])\n",
    "print(u)\n",
    "toc = time.time()\n",
    "print(\"For Loop (Non-Vectorized): \" + str(10000*(toc-tic)) + \" ms\\n\\n\")\n",
    "\n",
    "# vectorizing example 2\n",
    "u = np.zeros((len(v), 1))\n",
    "tic = time.time()\n",
    "u = np.exp(v)\n",
    "toc = time.time()\n",
    "print(\"Vectorization: \" + str(10000*(toc-tic)) + \" ms\")\n",
    "\n",
    "print(u)"
   ]
  },
  {
   "cell_type": "code",
   "execution_count": null,
   "metadata": {},
   "outputs": [],
   "source": []
  },
  {
   "cell_type": "code",
   "execution_count": null,
   "metadata": {},
   "outputs": [],
   "source": []
  }
 ],
 "metadata": {
  "kernelspec": {
   "display_name": "Python 3",
   "language": "python",
   "name": "python3"
  },
  "language_info": {
   "codemirror_mode": {
    "name": "ipython",
    "version": 3
   },
   "file_extension": ".py",
   "mimetype": "text/x-python",
   "name": "python",
   "nbconvert_exporter": "python",
   "pygments_lexer": "ipython3",
   "version": "3.6.8"
  }
 },
 "nbformat": 4,
 "nbformat_minor": 2
}
